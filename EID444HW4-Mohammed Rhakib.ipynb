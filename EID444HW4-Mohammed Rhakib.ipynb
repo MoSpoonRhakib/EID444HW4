{
 "cells": [
  {
   "cell_type": "markdown",
   "metadata": {},
   "source": [
    "# EID 444 Homework 4"
   ]
  },
  {
   "cell_type": "markdown",
   "metadata": {},
   "source": [
    "# Modified Displacement Function (w/ Shift function))"
   ]
  },
  {
   "cell_type": "code",
   "execution_count": null,
   "metadata": {},
   "outputs": [],
   "source": [
    "import numpy as np\n",
    "import matplotlib.pyplot as plt\n",
    "import matplotlib.animation as animation\n",
    "from IPython.display import HTML, display\n",
    "import matplotlib as mpl\n",
    "mpl.rcParams.update({'font.size': 12})\n",
    "import time\n",
    "\n",
    "\n",
    "#[1] https://stackoverflow.com/questions/29241056/how-do-i-use-np-newaxis\n",
    "\n",
    "#R is a matrix of particle positions for N L-J particles\n",
    "\n",
    "def shift(R, L):\n",
    "    '''Adding periodic boundary conditions'''\n",
    "    R = R - np.round(R/L) * L\n",
    "    return R\n",
    "\n",
    "def displacements(R, L):\n",
    "    '''Calculates all displacements between all pairs \n",
    "    of particles'''\n",
    "\n",
    "    #Wrapping positions under periodic boundary conditions\n",
    "    R_wrapped = shift(R,L)\n",
    "\n",
    "    #Computes the pairwise displacements: r_i - r_j\n",
    "    #[1] - Learned about np.newaxis to help conduct matrix operations without consuming much memory\n",
    "    dR = R[:, np.newaxis, :] - R[np.newaxis, :, :]\n",
    "    dR_wrapped = R_wrapped[:, np.newaxis, :] - R_wrapped[np.newaxis, :, :]\n",
    " \n",
    "    return dR, dR_wrapped\n"
   ]
  },
  {
   "cell_type": "markdown",
   "metadata": {},
   "source": [
    "# LJ Forces Function"
   ]
  },
  {
   "cell_type": "code",
   "execution_count": null,
   "metadata": {},
   "outputs": [],
   "source": [
    "def lj_forces(dR, sigma, epsilon):\n",
    "\n",
    "     rij = np.linalg.norm(dR, axis=-1)\n",
    "     FRR = 4 * epsilon * (-12 * (sigma / rij) ** 13 + 6*(sigma/rij)**7) / sigma #LJ Force equation\n",
    "     FRR[np.isnan(FRR)] = 0 #Shown to me by Jared\n",
    "\n",
    "     return FRR\n"
   ]
  },
  {
   "cell_type": "markdown",
   "metadata": {},
   "source": [
    "# Net Forces"
   ]
  },
  {
   "cell_type": "code",
   "execution_count": null,
   "metadata": {},
   "outputs": [],
   "source": [
    "def net_forces(FRR):\n",
    "    FR = np.nansum(FRR, axis=1) #Shown to me by Jared. Had an issue where I could not get rid of nan values\n",
    "    return FR"
   ]
  },
  {
   "cell_type": "markdown",
   "metadata": {},
   "source": [
    "# Verlet Step"
   ]
  },
  {
   "cell_type": "code",
   "execution_count": null,
   "metadata": {},
   "outputs": [],
   "source": [
    "def verlet_step(r_current, r_prev, t, m, FR):\n",
    "    \"\"\" Calculate the Verlet step of the Leonard-Jones particle system. \"\"\"\n",
    "\n",
    "    acceleration = FR / m[:, np.newaxis]  \n",
    "\n",
    "    r_next = (2 * r_current) - r_prev + (acceleration * (t**2))\n",
    "\n",
    "    return r_next \n",
    "\n"
   ]
  },
  {
   "cell_type": "markdown",
   "metadata": {},
   "source": [
    "# Simulation"
   ]
  },
  {
   "cell_type": "code",
   "execution_count": null,
   "metadata": {},
   "outputs": [],
   "source": [
    "#Credit to Jared for telling me to create a function that combines all previous functions\n",
    "\n",
    "\n",
    "def Force_from_displacement(R, sigma, epsilon, L):\n",
    "    dR, dR_wrapped = displacements(R, L)\n",
    "    Forces = lj_forces(dR, sigma, epsilon)\n",
    "    net_force = np.nansum(Forces[..., np.newaxis] * dR, axis=0) \n",
    "    net_force[np.isnan(net_force)] = 0\n",
    "    return net_force\n",
    "\n",
    "\n",
    "def simulation(R_0, v_0, m, t, t_max, sigma, epsilon, L):\n",
    "    t_start = time.time()\n",
    "\n",
    "\n",
    "    n_steps = int(t_max / t)\n",
    "    N = len(R_0)\n",
    "\n",
    "    #Initialize trajectory correctly as a NumPy array\n",
    "    trajectory = np.zeros((n_steps, N, 2))\n",
    "\n",
    "    #Set initial positions\n",
    "    trajectory[0] = R_0\n",
    "    trajectory[1] = R_0 + v_0 * t  # First Verlet step\n",
    "\n",
    "    for step in range(1, n_steps - 1):\n",
    "        #Compute forces\n",
    "        FR = Force_from_displacement(trajectory[step], sigma, epsilon, L)\n",
    "        \n",
    "        #Compute next position using Verlet integration\n",
    "        r_next = verlet_step(trajectory[step], trajectory[step - 1], t, m, FR)\n",
    "        \n",
    "        #Store new positions\n",
    "        trajectory[step + 1] = r_next\n",
    "\n",
    "    t_end = time.time()\n",
    "    t_sim = t_end - t_start\n",
    "\n",
    "    return trajectory, t_sim\n"
   ]
  },
  {
   "cell_type": "markdown",
   "metadata": {},
   "source": [
    "# Plot and Animate Trajectory"
   ]
  },
  {
   "cell_type": "code",
   "execution_count": null,
   "metadata": {},
   "outputs": [],
   "source": [
    "def plot_traj(trajectory):\n",
    "\n",
    "    trajectory = np.array(trajectory)  \n",
    "\n",
    "    N = trajectory.shape[1] \n",
    "\n",
    "    for i in range(N):\n",
    "        plt.plot(trajectory[:, i, 0], trajectory[:, i, 1], marker='o')\n",
    "\n",
    "    plt.xlabel(\"X Position\")\n",
    "    plt.ylabel(\"Y Position\")\n",
    "    plt.title(\"Particle Trajectories\")\n",
    "    plt.axis(\"equal\")\n",
    "    plt.show()\n",
    "\n",
    "\n",
    "def animate_trajectory(trajectory, L,  interval=50, stride = 5):\n",
    "\n",
    "    trajectory = np.array(trajectory)\n",
    "    trajectory = shift(trajectory, L) \n",
    "    n_steps, N, _ = trajectory.shape \n",
    "\n",
    "    \n",
    "    fig, ax = plt.subplots(figsize=(6, 6), dpi=100)\n",
    "    ax.set_xlim(np.min(trajectory[..., 0]), np.max(trajectory[..., 0]))\n",
    "    ax.set_ylim(np.min(trajectory[..., 1]), np.max(trajectory[..., 1]))\n",
    "    ax.set_title(\"Leonard-Jones Particle Simulation\")\n",
    "    ax.set_xlabel(\"X Position\")\n",
    "    ax.set_ylabel(\"Y Position\")\n",
    "\n",
    "    #Initialize scatter plot\n",
    "    scat = ax.scatter([], [], s=100)\n",
    "\n",
    "\n",
    "    #[2] https://stackoverflow.com/questions/26892392/how-to-use-funcanimation-to-display-one-scatter-marker-per-frame\n",
    "    def init():\n",
    "        \"\"\"Initialize animation frame with empty data.\"\"\"\n",
    "        scat.set_offsets(np.zeros((N, 2)))  # Set initial positions as empty\n",
    "        return scat,\n",
    "\n",
    "    def update(frame):\n",
    "        \"\"\"Update scatter plot for each frame.\"\"\"\n",
    "        positions = trajectory[frame] \n",
    "        scat.set_offsets(positions)  # Update particle positions\n",
    "        return scat,\n",
    "\n",
    "    #Create animation\n",
    "    ani = animation.FuncAnimation(fig, update, frames=range(0, n_steps, stride), init_func=init, interval=interval, blit=True)\n",
    "    ani.save('trajectory.gif', writer='pillow')\n",
    "\n",
    "    return HTML(ani.to_jshtml())\n",
    "\n"
   ]
  },
  {
   "cell_type": "markdown",
   "metadata": {},
   "source": [
    "# Create Triangular Lattice"
   ]
  },
  {
   "cell_type": "code",
   "execution_count": null,
   "metadata": {},
   "outputs": [],
   "source": [
    "def make_triangular_lattice(origin, N, lattice_constant):\n",
    "  lattice = np.zeros((N*N,2))\n",
    "  for i in range(N):\n",
    "    for j in range(N):\n",
    "      lattice[i*N + j] = origin + i*np.array([1,0]) + j*np.array([0.5, np.sqrt(3/4)])\n",
    "\n",
    "  lattice = lattice_constant*(lattice - np.mean(lattice, axis = 0))\n",
    "  return lattice"
   ]
  },
  {
   "cell_type": "markdown",
   "metadata": {},
   "source": [
    "# Execution Time Function and Plot"
   ]
  },
  {
   "cell_type": "code",
   "execution_count": null,
   "metadata": {},
   "outputs": [],
   "source": [
    "#Calculate avergae simulation time\n",
    "def calculate_tsim(N):\n",
    "    tsim_avg = np.zeros(len(N))   \n",
    "    tsim_errors = np.zeros(len(N))\n",
    "\n",
    "    for step, N_val in enumerate(N):\n",
    "        masses = np.ones(N_val * N_val)  \n",
    "        L = N_val * (2**(1/6))  \n",
    "\n",
    "        positions = shift(make_triangular_lattice(np.array([0,0]), N_val, 2**(1/6)), L)\n",
    "\n",
    "        np.random.seed(20)\n",
    "        v_max = 2\n",
    "        velocities = v_max * 2 * (np.random.rand(N_val * N_val, 2) - 0.5) \n",
    "\n",
    "        t_sim_N = np.zeros(5)\n",
    "\n",
    "        for i in range(5):  # Run 5 simulations per N_val\n",
    "            _ , t_sim = simulation(R_0=positions, v_0=velocities, m=masses, \n",
    "                                     t=0.01, t_max=10, sigma=1, epsilon=1, L=L)\n",
    "            t_sim_N[i] = t_sim\n",
    "\n",
    "        # Compute statistics\n",
    "        tsim_avg[step] = np.mean(t_sim_N)\n",
    "        tsim_errors[step] = np.std(t_sim_N) / np.sqrt(5)  # Standard error\n",
    "\n",
    "    return tsim_avg, tsim_errors\n",
    "\n",
    "#Plot execution time vs system size\n",
    "def plot_tsim_vs_N(N, tsim_avg, tsim_errors):\n",
    "    plt.figure(figsize=(10,10))\n",
    "    plt.errorbar(N, tsim_avg, yerr=tsim_errors, capsize=5)\n",
    "    plt.plot(N, tsim_avg)\n",
    "    plt.xscale('log')\n",
    "    plt.yscale('log')\n",
    "    plt.xlabel('Lattice Size')\n",
    "    plt.ylabel('t_simulation')\n",
    "    plt.title('Execution Time vs System Size')\n",
    "    plt.show()\n"
   ]
  },
  {
   "cell_type": "markdown",
   "metadata": {},
   "source": [
    "# Calculate Momentum, KE, PE, and Total Energy"
   ]
  },
  {
   "cell_type": "code",
   "execution_count": null,
   "metadata": {},
   "outputs": [],
   "source": [
    "def calc_momentum(trajectory, masses, t):\n",
    "    velocities = (trajectory[2:] - trajectory[:-2]) / (2*t)  #Central differencing\n",
    "    print(velocities)\n",
    "    momentum = masses[np.newaxis, :, np.newaxis] * velocities\n",
    "    print(momentum)\n",
    "    total_momentum = np.sum(momentum, axis=1)  \n",
    "    return total_momentum \n",
    "\n",
    "def plot_momentum(total_momentum):\n",
    "    plt.figure(figsize=(6,6))\n",
    "    plt.scatter(total_momentum[:, 0], total_momentum[:, 1], color='orange')\n",
    "    plt.xlabel(\"p_x\")\n",
    "    plt.ylabel(\"p_y\")\n",
    "    plt.title(\"Momentum Conservation Scatter Plot\")\n",
    "    plt.grid()\n",
    "    plt.show()\n",
    "\n",
    "def calc_KE(trajectory, masses, t):\n",
    "    velocities = (trajectory[2:] - trajectory[:-2]) / (2*t)  \n",
    "    kinetic_energy = 0.5 * masses[np.newaxis, :] * np.sum(velocities**2, axis=2)\n",
    "    total_KE = np.sum(kinetic_energy, axis=1)\n",
    "    return total_KE\n",
    "\n",
    "#Potential is for L-J particles\n",
    "def calc_PE(trajectory, sigma, epsilon):\n",
    "    n_steps, N, _ = trajectory.shape\n",
    "    PE = np.zeros(n_steps)\n",
    "\n",
    "    for step in range(n_steps):\n",
    "        R = trajectory[step]\n",
    "        dR, _ = displacements(R, L)\n",
    "        rij = np.linalg.norm(dR, axis=-1)\n",
    "        U = 4 * epsilon * ((sigma / rij) ** 12 - (sigma / rij) ** 6)\n",
    "        U[np.isnan(U)] = 0\n",
    "        PE[step] = np.nansum(U) / 2 #Avoid double counting\n",
    "        \n",
    "    return PE\n",
    "\n",
    "def plot_energies(KE, PE):\n",
    "\n",
    "    time_steps = np.arange(len(KE))\n",
    "\n",
    "    total_energy = KE + PE[1:-1] #Makes both variables the same shape\n",
    "    plt.figure(figsize=(8, 5))\n",
    "    plt.plot(time_steps, KE, label=\"Kinetic Energy\", color=\"blue\")\n",
    "    plt.plot(time_steps, PE[1:-1], label=\"Potential Energy\", color=\"red\")\n",
    "    plt.plot(time_steps, total_energy, label=\"Total Energy\", color=\"black\", linestyle=\"dashed\")\n",
    "    plt.xlabel(\"Time Step\")\n",
    "    plt.ylabel(\"Energy\")\n",
    "    plt.title(\"Energy Conservation\")\n",
    "    plt.legend()\n",
    "    plt.grid()\n",
    "    plt.show()\n"
   ]
  },
  {
   "cell_type": "markdown",
   "metadata": {},
   "source": [
    "# Question 1 - Create Functions (Create Unit Vectors, Temp Calc, MB Distribution and Speed Distribution)"
   ]
  },
  {
   "cell_type": "code",
   "execution_count": null,
   "metadata": {},
   "outputs": [],
   "source": [
    "def create_unit_vectors(N, seed):\n",
    "    '''Creates an array of unit vectors for the velocities, gives it its direction'''\n",
    "    #Initialize seed\n",
    "    np.random.seed(seed)\n",
    "    vectors_polar = np.random.uniform(0, 2*np.pi, N)\n",
    "    unit_vectors = np.array([np.sin(vectors_polar), np.cos(vectors_polar)])\n",
    "    return unit_vectors\n",
    "\n",
    "\n",
    "k_b = 1.0\n",
    "\n",
    "def calc_temp(trajectory, t):\n",
    "    ''' Calculates temperature at each frame of trajectory - essentially the average KE'''\n",
    "    particle = len(trajectory[1])\n",
    "    masses = np.ones(particle)\n",
    "    KE = calc_KE(trajectory, masses, t)\n",
    "    Temperature = 2 * (KE/particle) / (particle * k_b) # double check if right\n",
    "    return Temperature\n",
    "\n",
    "def MB_distribution(Temp, v_max, dv):\n",
    "    "
   ]
  }
 ],
 "metadata": {
  "kernelspec": {
   "display_name": "base",
   "language": "python",
   "name": "python3"
  },
  "language_info": {
   "codemirror_mode": {
    "name": "ipython",
    "version": 3
   },
   "file_extension": ".py",
   "mimetype": "text/x-python",
   "name": "python",
   "nbconvert_exporter": "python",
   "pygments_lexer": "ipython3",
   "version": "3.12.4"
  }
 },
 "nbformat": 4,
 "nbformat_minor": 2
}
